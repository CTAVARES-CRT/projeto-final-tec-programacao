{
 "cells": [
  {
   "attachments": {},
   "cell_type": "markdown",
   "metadata": {},
   "source": [
    "# Módulo 2 - Técnicas de Programação I\n",
    "\n",
    "## --- Projeto: Análise de Dados com Pandas ---\n",
    "\n",
    "### Equipe:\n",
    "    -   Christian Dos Santos Oliveira\n",
    "    -   Cleiton Rodrigues Tavares\n",
    "    -   Lucas de Oliveira Noman\n",
    "    -   Luis Felipe Costa⁠\n",
    "    -   Roosevelt da Rocha Chaves Junior\n",
    "\n",
    "### Escolha dos DataFrames de trabalho:\n",
    "\n",
    "- [Histórico de jogos da Copa do Mundo](https://www.kaggle.com/datasets/abecklas/fifa-world-cup)\n",
    "\n",
    "### Repositório da equipe:\n",
    "\n",
    "- [GitHub](https://github.com/osantoschris/projeto-final-tec-programacao.git)"
   ]
  },
  {
   "attachments": {},
   "cell_type": "markdown",
   "metadata": {},
   "source": [
    "## 1. Análise Exploratória e Pré-Tratamento dos Dados"
   ]
  },
  {
   "cell_type": "code",
   "execution_count": 2,
   "metadata": {},
   "outputs": [],
   "source": [
    "# importação das bibliotecas a serem utilizadas no projeto:\n",
    "\n",
    "import pandas as pd\n",
    "import numpy as np\n",
    "import matplotlib.pyplot as plt\n",
    "import math"
   ]
  },
  {
   "cell_type": "code",
   "execution_count": 2,
   "metadata": {},
   "outputs": [],
   "source": [
    "# carregamento dos DataFrames a serem utilizados no projeto:\n",
    "\n",
    "df_wordlcup = pd.read_csv('WorldCups.csv', sep=',')\n",
    "df_players = pd.read_csv('WorldCupPlayers.csv', encoding=\"utf-8\")\n",
    "df_matches = pd.read_csv('WorldCupMatches.csv', encoding=\"utf-8\")"
   ]
  },
  {
   "attachments": {},
   "cell_type": "markdown",
   "metadata": {},
   "source": [
    "### 1.1. DataFrame 'WorldCups':"
   ]
  },
  {
   "cell_type": "code",
   "execution_count": 3,
   "metadata": {},
   "outputs": [
    {
     "name": "stdout",
     "output_type": "stream",
     "text": [
      "<class 'pandas.core.frame.DataFrame'>\n",
      "RangeIndex: 20 entries, 0 to 19\n",
      "Data columns (total 10 columns):\n",
      " #   Column          Non-Null Count  Dtype \n",
      "---  ------          --------------  ----- \n",
      " 0   Year            20 non-null     int64 \n",
      " 1   Country         20 non-null     object\n",
      " 2   Winner          20 non-null     object\n",
      " 3   Runners-Up      20 non-null     object\n",
      " 4   Third           20 non-null     object\n",
      " 5   Fourth          20 non-null     object\n",
      " 6   GoalsScored     20 non-null     int64 \n",
      " 7   QualifiedTeams  20 non-null     int64 \n",
      " 8   MatchesPlayed   20 non-null     int64 \n",
      " 9   Attendance      20 non-null     object\n",
      "dtypes: int64(4), object(6)\n",
      "memory usage: 1.7+ KB\n"
     ]
    }
   ],
   "source": [
    "# acesso às informações principais\n",
    "\n",
    "df_wordlcup.info()"
   ]
  },
  {
   "cell_type": "code",
   "execution_count": 4,
   "metadata": {},
   "outputs": [
    {
     "name": "stdout",
     "output_type": "stream",
     "text": [
      "Demonstração de 5 linhas contidas no DataFrame: (20, 10) \n",
      "     Year      Country      Winner   Runners-Up        Third       Fourth  \\\n",
      "4   1954  Switzerland  Germany FR      Hungary      Austria      Uruguay   \n",
      "9   1974      Germany  Germany FR  Netherlands       Poland       Brazil   \n",
      "15  1998       France      France       Brazil      Croatia  Netherlands   \n",
      "17  2006      Germany       Italy       France      Germany     Portugal   \n",
      "19  2014       Brazil     Germany    Argentina  Netherlands       Brazil   \n",
      "\n",
      "    GoalsScored  QualifiedTeams  MatchesPlayed Attendance  \n",
      "4           140              16             26    768.607  \n",
      "9            97              16             38  1.865.753  \n",
      "15          171              32             64  2.785.100  \n",
      "17          147              32             64  3.359.439  \n",
      "19          171              32             64  3.386.810   \n",
      "\n",
      "O resumo das colunas númericas é:\n",
      "               Year  GoalsScored  QualifiedTeams  MatchesPlayed\n",
      "count    20.000000    20.000000       20.000000      20.000000\n",
      "mean   1974.800000   118.950000       21.250000      41.800000\n",
      "std      25.582889    32.972836        7.268352      17.218717\n",
      "min    1930.000000    70.000000       13.000000      17.000000\n",
      "25%    1957.000000    89.000000       16.000000      30.500000\n",
      "50%    1976.000000   120.500000       16.000000      38.000000\n",
      "75%    1995.000000   145.250000       26.000000      55.000000\n",
      "max    2014.000000   171.000000       32.000000      64.000000\n"
     ]
    }
   ],
   "source": [
    "# análise exploratória das colunas e registros do DataFrame:\n",
    "\n",
    "print(\"Demonstração de 5 linhas contidas no DataFrame:\", df_wordlcup.shape,\"\\n\", df_wordlcup.sample(5).sort_index(), \"\\n\")\n",
    "print(\"O resumo das colunas númericas é:\\n\", df_wordlcup.describe())"
   ]
  },
  {
   "attachments": {},
   "cell_type": "markdown",
   "metadata": {},
   "source": [
    "### 1.2. DataFrame 'WorldCupsPlayers':"
   ]
  },
  {
   "cell_type": "code",
   "execution_count": 5,
   "metadata": {},
   "outputs": [
    {
     "name": "stdout",
     "output_type": "stream",
     "text": [
      "<class 'pandas.core.frame.DataFrame'>\n",
      "RangeIndex: 37784 entries, 0 to 37783\n",
      "Data columns (total 9 columns):\n",
      " #   Column         Non-Null Count  Dtype \n",
      "---  ------         --------------  ----- \n",
      " 0   RoundID        37784 non-null  int64 \n",
      " 1   MatchID        37784 non-null  int64 \n",
      " 2   Team Initials  37784 non-null  object\n",
      " 3   Coach Name     37784 non-null  object\n",
      " 4   Line-up        37784 non-null  object\n",
      " 5   Shirt Number   37784 non-null  int64 \n",
      " 6   Player Name    37784 non-null  object\n",
      " 7   Position       4143 non-null   object\n",
      " 8   Event          9069 non-null   object\n",
      "dtypes: int64(3), object(6)\n",
      "memory usage: 2.6+ MB\n"
     ]
    }
   ],
   "source": [
    "# acesso às informações principais\n",
    "\n",
    "df_players.info()"
   ]
  },
  {
   "cell_type": "code",
   "execution_count": 6,
   "metadata": {},
   "outputs": [
    {
     "name": "stdout",
     "output_type": "stream",
     "text": [
      "Demonstração de 5 linhas contidas no DataFrame: (37784, 9) \n",
      "        RoundID    MatchID Team Initials                   Coach Name Line-up  \\\n",
      "2657       208       1218           PAR  FLEITAS SOLICH Manuel (PAR)       S   \n",
      "16341      308        533           ENG           ROBSON Bobby (ENG)       S   \n",
      "23281     1014       8743           AUT       PROHASKA Herbert (AUT)       N   \n",
      "33985   249719  300111114           ESP     DEL BOSQUE Vicente (ESP)       S   \n",
      "35432   255931  300186511           NGA          KESHI Stephen (NGA)       N   \n",
      "\n",
      "       Shirt Number        Player Name Position Event  \n",
      "2657              0   Casiano CESPEDES      NaN   NaN  \n",
      "16341             3       Kenny SANSOM      NaN   NaN  \n",
      "23281            11  Martin AMERHAUSER      NaN   NaN  \n",
      "33985            16             SERGIO      NaN   NaN  \n",
      "35432            20             UCHEBO      NaN   NaN   \n",
      "\n",
      "O resumo das colunas númericas é:\n",
      "             RoundID       MatchID  Shirt Number\n",
      "count  3.778400e+04  3.778400e+04  37784.000000\n",
      "mean   1.105647e+07  6.362233e+07     10.726022\n",
      "std    2.770144e+07  1.123916e+08      6.960138\n",
      "min    2.010000e+02  2.500000e+01      0.000000\n",
      "25%    2.630000e+02  1.199000e+03      5.000000\n",
      "50%    3.370000e+02  2.216000e+03     11.000000\n",
      "75%    2.559310e+05  9.741000e+07     17.000000\n",
      "max    9.741060e+07  3.001865e+08     23.000000\n"
     ]
    }
   ],
   "source": [
    "# análise exploratória das colunas e registros do DataFrame:\n",
    "\n",
    "print(\"Demonstração de 5 linhas contidas no DataFrame:\", df_players.shape,\"\\n\", df_players.sample(5).sort_index(), \"\\n\")\n",
    "print(\"O resumo das colunas númericas é:\\n\", df_players.describe())"
   ]
  },
  {
   "cell_type": "code",
   "execution_count": 7,
   "metadata": {},
   "outputs": [
    {
     "name": "stdout",
     "output_type": "stream",
     "text": [
      "Porcentagem de eventos nulos:  75.9977768367563 %\n",
      "Número de eventos distintos:  1894\n"
     ]
    },
    {
     "data": {
      "text/plain": [
       "array([nan, \"G40'\", \"G70'\", ..., \"I66' Y73'\", \"I91' G105'\", \"I105' G107'\"],\n",
       "      dtype=object)"
      ]
     },
     "execution_count": 7,
     "metadata": {},
     "output_type": "execute_result"
    }
   ],
   "source": [
    "# coluna eventos se apresenta com muitos valores nulos:\n",
    "\n",
    "print(\"Porcentagem de eventos nulos: \", sum(df_players['Event'].isnull())/len(df_players)*100, \"%\")\n",
    "print(\"Número de eventos distintos: \", len(df_players['Event'].unique()))\n",
    "df_players['Event'].unique()\n",
    "\n",
    "# Leganda Coluna Event:\n",
    "\n",
    "# - G = Goal\n",
    "# - OG = Own Goal\n",
    "# - Y = Yellow Card\n",
    "# - R = Red Card\n",
    "# - SY = Red Card by second yellow\n",
    "# - P = Penalty\n",
    "# - MP = Missed Penalty\n",
    "# - I = Substitution In\n",
    "# - O = Substitute Out"
   ]
  },
  {
   "attachments": {},
   "cell_type": "markdown",
   "metadata": {},
   "source": [
    "### 1.3. DataFrame 'WorldCupsMatches':"
   ]
  },
  {
   "cell_type": "code",
   "execution_count": 8,
   "metadata": {},
   "outputs": [
    {
     "name": "stdout",
     "output_type": "stream",
     "text": [
      "<class 'pandas.core.frame.DataFrame'>\n",
      "RangeIndex: 4572 entries, 0 to 4571\n",
      "Data columns (total 20 columns):\n",
      " #   Column                Non-Null Count  Dtype  \n",
      "---  ------                --------------  -----  \n",
      " 0   Year                  852 non-null    float64\n",
      " 1   Datetime              852 non-null    object \n",
      " 2   Stage                 852 non-null    object \n",
      " 3   Stadium               852 non-null    object \n",
      " 4   City                  852 non-null    object \n",
      " 5   Home Team Name        852 non-null    object \n",
      " 6   Home Team Goals       852 non-null    float64\n",
      " 7   Away Team Goals       852 non-null    float64\n",
      " 8   Away Team Name        852 non-null    object \n",
      " 9   Win conditions        852 non-null    object \n",
      " 10  Attendance            850 non-null    float64\n",
      " 11  Half-time Home Goals  852 non-null    float64\n",
      " 12  Half-time Away Goals  852 non-null    float64\n",
      " 13  Referee               852 non-null    object \n",
      " 14  Assistant 1           852 non-null    object \n",
      " 15  Assistant 2           852 non-null    object \n",
      " 16  RoundID               852 non-null    float64\n",
      " 17  MatchID               852 non-null    float64\n",
      " 18  Home Team Initials    852 non-null    object \n",
      " 19  Away Team Initials    852 non-null    object \n",
      "dtypes: float64(8), object(12)\n",
      "memory usage: 714.5+ KB\n"
     ]
    }
   ],
   "source": [
    "# acesso às informações principais\n",
    "\n",
    "df_matches.info()"
   ]
  },
  {
   "cell_type": "code",
   "execution_count": 9,
   "metadata": {},
   "outputs": [
    {
     "name": "stdout",
     "output_type": "stream",
     "text": [
      "Demonstração de 5 linhas contidas no DataFrame: (4572, 20) \n",
      "         Year              Datetime    Stage        Stadium          City\n",
      "378   1986.0  07 Jun 1986 - 12:00   Group D  Tres de Marzo  Guadalajara \n",
      "1188     NaN                   NaN      NaN            NaN           NaN\n",
      "2315     NaN                   NaN      NaN            NaN           NaN\n",
      "3567     NaN                   NaN      NaN            NaN           NaN\n",
      "4426     NaN                   NaN      NaN            NaN           NaN \n",
      "\n",
      "O resumo das colunas númericas é:\n",
      "               Year  Home Team Goals  Away Team Goals     Attendance  \\\n",
      "count   852.000000       852.000000       852.000000     850.000000   \n",
      "mean   1985.089202         1.811033         1.022300   45164.800000   \n",
      "std      22.448825         1.610255         1.087573   23485.249247   \n",
      "min    1930.000000         0.000000         0.000000    2000.000000   \n",
      "25%    1970.000000         1.000000         0.000000   30000.000000   \n",
      "50%    1990.000000         2.000000         1.000000   41579.500000   \n",
      "75%    2002.000000         3.000000         2.000000   61374.500000   \n",
      "max    2014.000000        10.000000         7.000000  173850.000000   \n",
      "\n",
      "       Half-time Home Goals  Half-time Away Goals       RoundID       MatchID  \n",
      "count            852.000000            852.000000  8.520000e+02  8.520000e+02  \n",
      "mean               0.708920              0.428404  1.066177e+07  6.134687e+07  \n",
      "std                0.937414              0.691252  2.729613e+07  1.110572e+08  \n",
      "min                0.000000              0.000000  2.010000e+02  2.500000e+01  \n",
      "25%                0.000000              0.000000  2.620000e+02  1.188750e+03  \n",
      "50%                0.000000              0.000000  3.370000e+02  2.191000e+03  \n",
      "75%                1.000000              1.000000  2.497220e+05  4.395006e+07  \n",
      "max                6.000000              5.000000  9.741060e+07  3.001865e+08  \n"
     ]
    }
   ],
   "source": [
    "# análise exploratória das colunas e registros do DataFrame:\n",
    "\n",
    "print(\"Demonstração de 5 linhas contidas no DataFrame:\", df_matches.shape,\"\\n\", df_matches.sample(5).sort_index().iloc[:,0:5], \"\\n\")\n",
    "print(\"O resumo das colunas númericas é:\\n\", df_matches.describe())"
   ]
  },
  {
   "attachments": {},
   "cell_type": "markdown",
   "metadata": {},
   "source": [
    "## 2. Análise Dos Dados"
   ]
  },
  {
   "attachments": {},
   "cell_type": "markdown",
   "metadata": {},
   "source": [
    "### Com base no que vimos, podemos inferir as seguintes perguntas, e testa-las na prática:\n",
    "\n",
    "* Quais são os top 5 maiores campeões mundiais?\n",
    "* Qual a média geral e maior público das copas?\n",
    "* Qual a quantidade de seleções participantes?\n",
    "* Qual a média de gols em finais de copas?\n",
    "* Qual a quantidade de cartões amarelos em finais de copa?\n",
    "* Qual a quantidade de cartões vermelhos após o segundo amarelo?\n",
    "* Qual seleção goleou em uma final?\n",
    "* Quais os maiores artilheiros das copas?"
   ]
  },
  {
   "attachments": {},
   "cell_type": "markdown",
   "metadata": {},
   "source": [
    "### 2.1. Quais são os top 5 maiores campeões mundiais:"
   ]
  },
  {
   "cell_type": "code",
   "execution_count": 10,
   "metadata": {},
   "outputs": [
    {
     "data": {
      "text/plain": [
       "<function matplotlib.pyplot.show(close=None, block=None)>"
      ]
     },
     "execution_count": 10,
     "metadata": {},
     "output_type": "execute_result"
    },
    {
     "data": {
      "image/png": "[encoded data removed]",
      "text/plain": [
       "<Figure size 640x480 with 1 Axes>"
      ]
     },
     "metadata": {},
     "output_type": "display_data"
    }
   ],
   "source": [
    "df_top = df_wordlcup.copy()\n",
    "df_top = df_top.value_counts(['Winner']).head(5).sort_values()\n",
    "df_top.plot.barh(x='Winner', y= 'Winner')\n",
    "\n",
    "plt.xlabel('Quantidade')\n",
    "plt.ylabel('Winner')\n",
    "plt.title('Top 5 Campeões Mundiais')\n",
    "plt.show"
   ]
  },
  {
   "attachments": {},
   "cell_type": "markdown",
   "metadata": {},
   "source": [
    "#### 2.1.1. Qual o resultado em copas do Brasil:"
   ]
  },
  {
   "cell_type": "code",
   "execution_count": 11,
   "metadata": {},
   "outputs": [
    {
     "name": "stdout",
     "output_type": "stream",
     "text": [
      "O Brasil ficou em segundo lugar: 2 vezes.\n",
      "O Brasil ficou em terceiro lugar: 2 vezes.\n",
      "O Brasil ficou em quarto lugar: 2 vezes.\n",
      "\n",
      "O Brasil ganhou as copas de:\n",
      "     Year      Country\n",
      "5   1958       Sweden\n",
      "6   1962        Chile\n",
      "8   1970       Mexico\n",
      "14  1994          USA\n",
      "16  2002  Korea/Japan \n",
      "\n",
      "O Brasil foi vice-lugar nas copas de:\n",
      "     Year Country\n",
      "3   1950  Brazil\n",
      "15  1998  France \n",
      "\n",
      "O Brasil ficou em terceiro nas copas de:\n",
      "     Year    Country\n",
      "2   1938     France\n",
      "10  1978  Argentina \n",
      "\n"
     ]
    }
   ],
   "source": [
    "print(\"O Brasil ficou em segundo lugar:\", df_wordlcup.value_counts(['Runners-Up'])['Brazil'], \"vezes.\")\n",
    "print(\"O Brasil ficou em terceiro lugar:\", df_wordlcup.value_counts(['Third'])['Brazil'], \"vezes.\")\n",
    "print(\"O Brasil ficou em quarto lugar:\", df_wordlcup.value_counts(['Fourth'])['Brazil'], \"vezes.\")\n",
    "\n",
    "print(\"\\nO Brasil ganhou as copas de:\\n\", df_wordlcup.loc[df_wordlcup['Winner']=='Brazil',['Year','Country']],\"\\n\")\n",
    "print(\"O Brasil foi vice-lugar nas copas de:\\n\", df_wordlcup.loc[df_wordlcup['Runners-Up']=='Brazil',['Year','Country']],\"\\n\")\n",
    "print(\"O Brasil ficou em terceiro nas copas de:\\n\", df_wordlcup.loc[df_wordlcup['Third']=='Brazil',['Year','Country']],\"\\n\")"
   ]
  },
  {
   "attachments": {},
   "cell_type": "markdown",
   "metadata": {},
   "source": [
    "### 2.2. Qual a média geral e maior público das copas:"
   ]
  },
  {
   "cell_type": "code",
   "execution_count": 12,
   "metadata": {},
   "outputs": [
    {
     "name": "stdout",
     "output_type": "stream",
     "text": [
      "Média de público em copas é:  1872882.35\n",
      "Maior público total em uma edição de copa foi:  3587538\n"
     ]
    },
    {
     "data": {
      "image/png": "[encoded data removed]",
      "text/plain": [
       "<Figure size 640x480 with 1 Axes>"
      ]
     },
     "metadata": {},
     "output_type": "display_data"
    }
   ],
   "source": [
    "df_wordlcup_atteendance = df_wordlcup[['Year', 'Attendance']].copy()\n",
    "\n",
    "df_wordlcup_atteendance['Attendance'] = df_wordlcup_atteendance['Attendance'].str.replace('.','', regex=True).astype(int)\n",
    "\n",
    "df_wordlcup_atteendance.plot(kind='bar', x='Year',y='Attendance')\n",
    "\n",
    "print(\"Média de público em copas é: \",np.mean(df_wordlcup_atteendance['Attendance']))\n",
    "print(\"Maior público total em uma edição de copa foi: \",max(df_wordlcup_atteendance['Attendance']))\n",
    "\n",
    "plt.xlabel('Anos')\n",
    "plt.ylabel('Público')\n",
    "plt.title('Público x Anos')\n",
    "plt.show()"
   ]
  },
  {
   "attachments": {},
   "cell_type": "markdown",
   "metadata": {},
   "source": [
    "#### 2.2.1. Maior público em cada grupo de todas as copas:"
   ]
  },
  {
   "cell_type": "code",
   "execution_count": 13,
   "metadata": {},
   "outputs": [
    {
     "data": {
      "text/html": [
       "<div>\n",
       "<style scoped>\n",
       "    .dataframe tbody tr th:only-of-type {\n",
       "        vertical-align: middle;\n",
       "    }\n",
       "\n",
       "    .dataframe tbody tr th {\n",
       "        vertical-align: top;\n",
       "    }\n",
       "\n",
       "    .dataframe thead th {\n",
       "        text-align: right;\n",
       "    }\n",
       "</style>\n",
       "<table border=\"1\" class=\"dataframe\">\n",
       "  <thead>\n",
       "    <tr style=\"text-align: right;\">\n",
       "      <th></th>\n",
       "      <th>Year</th>\n",
       "      <th>Datetime</th>\n",
       "      <th>Stadium</th>\n",
       "      <th>City</th>\n",
       "      <th>Attendance</th>\n",
       "    </tr>\n",
       "    <tr>\n",
       "      <th>Stage</th>\n",
       "      <th></th>\n",
       "      <th></th>\n",
       "      <th></th>\n",
       "      <th></th>\n",
       "      <th></th>\n",
       "    </tr>\n",
       "  </thead>\n",
       "  <tbody>\n",
       "    <tr>\n",
       "      <th>Final</th>\n",
       "      <td>1986.0</td>\n",
       "      <td>29 Jun 1986 - 12:00</td>\n",
       "      <td>Estadio Azteca</td>\n",
       "      <td>Mexico City</td>\n",
       "      <td>114600.0</td>\n",
       "    </tr>\n",
       "    <tr>\n",
       "      <th>First round</th>\n",
       "      <td>1938.0</td>\n",
       "      <td>05 Jun 1938 - 17:00</td>\n",
       "      <td>Stade Olympique</td>\n",
       "      <td>Colombes</td>\n",
       "      <td>30454.0</td>\n",
       "    </tr>\n",
       "    <tr>\n",
       "      <th>Group 1</th>\n",
       "      <td>1950.0</td>\n",
       "      <td>01 Jul 1950 - 15:00</td>\n",
       "      <td>Maracan� - Est�dio Jornalista M�rio Filho</td>\n",
       "      <td>Rio De Janeiro</td>\n",
       "      <td>142429.0</td>\n",
       "    </tr>\n",
       "    <tr>\n",
       "      <th>Group 2</th>\n",
       "      <td>1982.0</td>\n",
       "      <td>02 Jul 1982 - 21:00</td>\n",
       "      <td>Santiago Bernabeu</td>\n",
       "      <td>Madrid</td>\n",
       "      <td>90089.0</td>\n",
       "    </tr>\n",
       "    <tr>\n",
       "      <th>Group 3</th>\n",
       "      <td>1982.0</td>\n",
       "      <td>13 Jun 1982 - 20:00</td>\n",
       "      <td>Camp Nou</td>\n",
       "      <td>Barcelona</td>\n",
       "      <td>95000.0</td>\n",
       "    </tr>\n",
       "  </tbody>\n",
       "</table>\n",
       "</div>"
      ],
      "text/plain": [
       "               Year              Datetime  \\\n",
       "Stage                                       \n",
       "Final        1986.0  29 Jun 1986 - 12:00    \n",
       "First round  1938.0  05 Jun 1938 - 17:00    \n",
       "Group 1      1950.0  01 Jul 1950 - 15:00    \n",
       "Group 2      1982.0  02 Jul 1982 - 21:00    \n",
       "Group 3      1982.0  13 Jun 1982 - 20:00    \n",
       "\n",
       "                                               Stadium             City  \\\n",
       "Stage                                                                     \n",
       "Final                                   Estadio Azteca     Mexico City    \n",
       "First round                            Stade Olympique        Colombes    \n",
       "Group 1      Maracan� - Est�dio Jornalista M�rio Filho  Rio De Janeiro    \n",
       "Group 2                              Santiago Bernabeu          Madrid    \n",
       "Group 3                                       Camp Nou       Barcelona    \n",
       "\n",
       "             Attendance  \n",
       "Stage                    \n",
       "Final          114600.0  \n",
       "First round     30454.0  \n",
       "Group 1        142429.0  \n",
       "Group 2         90089.0  \n",
       "Group 3         95000.0  "
      ]
     },
     "execution_count": 13,
     "metadata": {},
     "output_type": "execute_result"
    }
   ],
   "source": [
    "df_matches_publico = df_matches.groupby(['Stage']).apply(lambda df: df.loc[df.Attendance.idxmax()])\n",
    "df_matches_publico.loc[:,[\"Year\",\"Datetime\",\"Stadium\",\"City\",\"Attendance\"]].head(5)"
   ]
  },
  {
   "attachments": {},
   "cell_type": "markdown",
   "metadata": {},
   "source": [
    "#### 2.2.2. Melhores médias de público por estádio:"
   ]
  },
  {
   "cell_type": "code",
   "execution_count": 14,
   "metadata": {},
   "outputs": [
    {
     "data": {
      "text/html": [
       "<div>\n",
       "<style scoped>\n",
       "    .dataframe tbody tr th:only-of-type {\n",
       "        vertical-align: middle;\n",
       "    }\n",
       "\n",
       "    .dataframe tbody tr th {\n",
       "        vertical-align: top;\n",
       "    }\n",
       "\n",
       "    .dataframe thead th {\n",
       "        text-align: right;\n",
       "    }\n",
       "</style>\n",
       "<table border=\"1\" class=\"dataframe\">\n",
       "  <thead>\n",
       "    <tr style=\"text-align: right;\">\n",
       "      <th></th>\n",
       "      <th>Attendance</th>\n",
       "    </tr>\n",
       "    <tr>\n",
       "      <th>Stadium</th>\n",
       "      <th></th>\n",
       "    </tr>\n",
       "  </thead>\n",
       "  <tbody>\n",
       "    <tr>\n",
       "      <th>Maracan� - Est�dio Jornalista M�rio Filho</th>\n",
       "      <td>101692.625000</td>\n",
       "    </tr>\n",
       "    <tr>\n",
       "      <th>Estadio Azteca</th>\n",
       "      <td>100923.684211</td>\n",
       "    </tr>\n",
       "    <tr>\n",
       "      <th>Rose Bowl</th>\n",
       "      <td>92600.875000</td>\n",
       "    </tr>\n",
       "    <tr>\n",
       "      <th>Wembley Stadium</th>\n",
       "      <td>86448.222222</td>\n",
       "    </tr>\n",
       "    <tr>\n",
       "      <th>Soccer City Stadium</th>\n",
       "      <td>83857.375000</td>\n",
       "    </tr>\n",
       "  </tbody>\n",
       "</table>\n",
       "</div>"
      ],
      "text/plain": [
       "                                              Attendance\n",
       "Stadium                                                 \n",
       "Maracan� - Est�dio Jornalista M�rio Filho  101692.625000\n",
       "Estadio Azteca                             100923.684211\n",
       "Rose Bowl                                   92600.875000\n",
       "Wembley Stadium                             86448.222222\n",
       "Soccer City Stadium                         83857.375000"
      ]
     },
     "execution_count": 14,
     "metadata": {},
     "output_type": "execute_result"
    }
   ],
   "source": [
    "df_matches[['Attendance','Stadium']].groupby(['Stadium']).mean().sort_values(by=\"Attendance\",ascending=False).head(5)"
   ]
  },
  {
   "attachments": {},
   "cell_type": "markdown",
   "metadata": {},
   "source": [
    "### 2.3. Qual a quantidade de seleções participantes:"
   ]
  },
  {
   "cell_type": "code",
   "execution_count": 15,
   "metadata": {},
   "outputs": [
    {
     "name": "stdout",
     "output_type": "stream",
     "text": [
      "83 seleções já participaram das copas.\n"
     ]
    }
   ],
   "source": [
    "df_matches_selecoes = pd.concat([df_matches['Home Team Initials'],df_matches['Away Team Initials']], axis=0)\n",
    "print(len(df_matches_selecoes.unique()), \"seleções já participaram das copas.\")"
   ]
  },
  {
   "attachments": {},
   "cell_type": "markdown",
   "metadata": {},
   "source": [
    "### 2.4. Qual a média de gols em finais de copas:"
   ]
  },
  {
   "cell_type": "code",
   "execution_count": 16,
   "metadata": {},
   "outputs": [
    {
     "name": "stdout",
     "output_type": "stream",
     "text": [
      "A média de gols em finais de copa é de: 4\n",
      "A média de gols em finais de copa dos times da casa é de: 3\n",
      "A média de gols em finais de copa dos times visitantes é de: 2\n"
     ]
    }
   ],
   "source": [
    "df_matches_gols = df_matches.copy()\n",
    "\n",
    "df_matches_gols = df_matches_gols[(df_matches_gols['Stage'] == 'Final')]\n",
    "\n",
    "df_matches_gols['Year'] = df_matches_gols['Year'].astype(str).str.replace('.0', '', regex=False)\n",
    "\n",
    "df_matches_gols['Total Goals'] = df_matches_gols['Home Team Goals'] + df_matches_gols['Away Team Goals']\n",
    "\n",
    "media_gols_finais = df_matches_gols['Total Goals'].mean()\n",
    "media_gols_finais_time_casa = df_matches_gols['Home Team Goals'].mean()\n",
    "media_gols_finais_time_fora = df_matches_gols['Away Team Goals'].mean()\n",
    "\n",
    "print(f'A média de gols em finais de copa é de: {math.ceil(media_gols_finais)}\\nA média de gols em finais de copa dos times da casa é de: {math.ceil(media_gols_finais_time_casa)}\\nA média de gols em finais de copa dos times visitantes é de: {math.ceil(media_gols_finais_time_fora)}')"
   ]
  },
  {
   "attachments": {},
   "cell_type": "markdown",
   "metadata": {},
   "source": [
    "#### 2.4.1. Quantos gols as maiores seleções fizeram:"
   ]
  },
  {
   "cell_type": "code",
   "execution_count": 17,
   "metadata": {},
   "outputs": [],
   "source": [
    "df_goals = df_matches.copy()\n",
    "\n",
    "df_goals[['Home Team Name', 'Away Team Name']] = df_goals[['Home Team Name', 'Away Team Name']].fillna('-')\n",
    "\n",
    "df_home_goals = df_goals[['Home Team Name', 'Home Team Goals']].copy()\n",
    "\n",
    "df_home_goals = df_home_goals.rename(columns={'Home Team Name':'Team Name'})\n",
    "\n",
    "df_home_goals = df_home_goals.groupby('Team Name')\n",
    "\n",
    "df_home_goals = df_home_goals['Home Team Goals'].sum()\n",
    "\n",
    "# df_home_goals.head(20).sort_values(ascending=False)"
   ]
  },
  {
   "cell_type": "code",
   "execution_count": 17,
   "metadata": {},
   "outputs": [],
   "source": [
    "df_away_goals = df_goals[['Away Team Name','Away Team Goals']].copy()\n",
    "\n",
    "df_away_goals = df_away_goals.rename(columns={'Away Team Name':'Team Name'})\n",
    "\n",
    "df_away_goals = df_away_goals.groupby('Team Name')\n",
    "\n",
    "df_away_goals = df_away_goals['Away Team Goals'].sum()\n",
    "\n",
    "# df_away_goals.sort_values(ascending=False).head(20)"
   ]
  },
  {
   "cell_type": "code",
   "execution_count": 18,
   "metadata": {},
   "outputs": [
    {
     "data": {
      "text/html": [
       "<div>\n",
       "<style scoped>\n",
       "    .dataframe tbody tr th:only-of-type {\n",
       "        vertical-align: middle;\n",
       "    }\n",
       "\n",
       "    .dataframe tbody tr th {\n",
       "        vertical-align: top;\n",
       "    }\n",
       "\n",
       "    .dataframe thead th {\n",
       "        text-align: right;\n",
       "    }\n",
       "</style>\n",
       "<table border=\"1\" class=\"dataframe\">\n",
       "  <thead>\n",
       "    <tr style=\"text-align: right;\">\n",
       "      <th></th>\n",
       "      <th>Total Goals</th>\n",
       "    </tr>\n",
       "    <tr>\n",
       "      <th>Team Name</th>\n",
       "      <th></th>\n",
       "    </tr>\n",
       "  </thead>\n",
       "  <tbody>\n",
       "    <tr>\n",
       "      <th>Brazil</th>\n",
       "      <td>225.0</td>\n",
       "    </tr>\n",
       "    <tr>\n",
       "      <th>Argentina</th>\n",
       "      <td>133.0</td>\n",
       "    </tr>\n",
       "    <tr>\n",
       "      <th>Germany FR</th>\n",
       "      <td>131.0</td>\n",
       "    </tr>\n",
       "    <tr>\n",
       "      <th>Italy</th>\n",
       "      <td>128.0</td>\n",
       "    </tr>\n",
       "    <tr>\n",
       "      <th>France</th>\n",
       "      <td>108.0</td>\n",
       "    </tr>\n",
       "  </tbody>\n",
       "</table>\n",
       "</div>"
      ],
      "text/plain": [
       "            Total Goals\n",
       "Team Name              \n",
       "Brazil            225.0\n",
       "Argentina         133.0\n",
       "Germany FR        131.0\n",
       "Italy             128.0\n",
       "France            108.0"
      ]
     },
     "execution_count": 18,
     "metadata": {},
     "output_type": "execute_result"
    }
   ],
   "source": [
    "df_total_goals = pd.merge(df_home_goals, df_away_goals, on='Team Name', how='inner')\n",
    "\n",
    "\n",
    "df_total_goals['Total Goals'] = df_total_goals.apply(lambda x: x['Home Team Goals'] + x['Away Team Goals'], axis=1)\n",
    "\n",
    "df_total_goals = df_total_goals.drop(['Home Team Goals', 'Away Team Goals'], axis=1)\n",
    "\n",
    "\n",
    "df_total_goals.sort_values(by='Total Goals', ascending=False).head(5)"
   ]
  },
  {
   "attachments": {},
   "cell_type": "markdown",
   "metadata": {},
   "source": [
    "### 2.5 Qual a quantidade de cartões amarelos em finais de copa:"
   ]
  },
  {
   "cell_type": "code",
   "execution_count": 24,
   "metadata": {},
   "outputs": [
    {
     "name": "stdout",
     "output_type": "stream",
     "text": [
      "Em finais de copa do mundo, ao todo já foram aplicados 2 cartões amarelos.\n"
     ]
    }
   ],
   "source": [
    "df_players['Yellow Card'] = df_players['Event'].str.contains('Y')\n",
    "\n",
    "df_players.fillna(False)\n",
    "\n",
    "df_players_amarelo = df_players.loc[df_players['Yellow Card'] == True].copy()\n",
    "\n",
    "df_final_cards = pd.merge(df_players_amarelo, df_matches, on='MatchID', how='inner')\n",
    "\n",
    "df_final_cards = df_final_cards.loc[df_final_cards['Stage'] == 'Final']\n",
    "\n",
    "total_yellow_cards = df_final_cards[['MatchID', 'Yellow Card']].shape[0]\n",
    "\n",
    "print(f'Em finais de copa do mundo, ao todo já foram aplicados {total_yellow_cards} cartões amarelos.')"
   ]
  },
  {
   "attachments": {},
   "cell_type": "markdown",
   "metadata": {},
   "source": [
    "### 2.6. Qual a quantidade de cartões vermelhos após o segundo amarelo:"
   ]
  },
  {
   "cell_type": "code",
   "execution_count": 18,
   "metadata": {},
   "outputs": [
    {
     "name": "stdout",
     "output_type": "stream",
     "text": [
      "Em finais de copa do mundo, ao todo já foram aplicados 2 cartões vermelhos, por acúmulo de cartões amarelos.\n"
     ]
    }
   ],
   "source": [
    "df_players['Second Yellow Card'] = df_players['Event'].str.contains('SY')\n",
    "\n",
    "df_players.fillna(False)\n",
    "\n",
    "df_players_dois_amarelos = df_players.loc[df_players['Second Yellow Card'] == True].copy()\n",
    "\n",
    "df_final_cards = pd.merge(df_players_dois_amarelos, df_matches, on='MatchID', how='inner')\n",
    "\n",
    "df_final_cards = df_final_cards.loc[df_final_cards['Stage'] == 'Final']\n",
    "\n",
    "total_red_cards = df_final_cards[['MatchID', 'Second Yellow Card']].shape[0]\n",
    "\n",
    "print(f'Em finais de copa do mundo, ao todo já foram aplicados {total_red_cards} cartões vermelhos, por acúmulo de cartões amarelos.')"
   ]
  },
  {
   "attachments": {},
   "cell_type": "markdown",
   "metadata": {},
   "source": [
    "### 2.7. Qual seleção goleou em uma final:"
   ]
  },
  {
   "cell_type": "code",
   "execution_count": 19,
   "metadata": {},
   "outputs": [
    {
     "data": {
      "text/plain": [
       "MatchID               300186501.0\n",
       "Stage                       Final\n",
       "Home Team Goals                 5\n",
       "Away Team Goals                 3\n",
       "Home Team Initials            URU\n",
       "Away Team Initials            TCH\n",
       "dtype: object"
      ]
     },
     "execution_count": 19,
     "metadata": {},
     "output_type": "execute_result"
    }
   ],
   "source": [
    "df_matches[['Home Team Initials', 'Away Team Initials']] = df_matches[['Home Team Initials', 'Away Team Initials']].fillna('-')\n",
    "df_matches['MatchID'] = df_matches['MatchID']\n",
    "df_matches[['Home Team Goals', 'Away Team Goals']] = df_matches[['Home Team Goals', 'Away Team Goals']].fillna(0).astype(int)\n",
    "\n",
    "df_matches[['MatchID', 'Stage', 'Home Team Goals', 'Away Team Goals', 'Home Team Initials', 'Away Team Initials']].loc[df_matches['Stage'] == 'Final'].max()"
   ]
  },
  {
   "attachments": {},
   "cell_type": "markdown",
   "metadata": {},
   "source": [
    "### 2.8. Quais os maiores artilheiros das copas:"
   ]
  },
  {
   "cell_type": "code",
   "execution_count": 3,
   "metadata": {},
   "outputs": [
    {
     "data": {
      "text/html": [
       "<div>\n",
       "<style scoped>\n",
       "    .dataframe tbody tr th:only-of-type {\n",
       "        vertical-align: middle;\n",
       "    }\n",
       "\n",
       "    .dataframe tbody tr th {\n",
       "        vertical-align: top;\n",
       "    }\n",
       "\n",
       "    .dataframe thead th {\n",
       "        text-align: right;\n",
       "    }\n",
       "</style>\n",
       "<table border=\"1\" class=\"dataframe\">\n",
       "  <thead>\n",
       "    <tr style=\"text-align: right;\">\n",
       "      <th></th>\n",
       "      <th>RoundID</th>\n",
       "      <th>MatchID</th>\n",
       "      <th>Team Initials</th>\n",
       "      <th>Coach Name</th>\n",
       "      <th>Line-up</th>\n",
       "      <th>Shirt Number</th>\n",
       "      <th>Player Name</th>\n",
       "      <th>Position</th>\n",
       "      <th>Event</th>\n",
       "    </tr>\n",
       "  </thead>\n",
       "  <tbody>\n",
       "    <tr>\n",
       "      <th>2</th>\n",
       "      <td>201</td>\n",
       "      <td>1096</td>\n",
       "      <td>FRA</td>\n",
       "      <td>CAUDRON Raoul (FRA)</td>\n",
       "      <td>S</td>\n",
       "      <td>0</td>\n",
       "      <td>Marcel LANGILLER</td>\n",
       "      <td>NaN</td>\n",
       "      <td>G40'</td>\n",
       "    </tr>\n",
       "    <tr>\n",
       "      <th>3</th>\n",
       "      <td>201</td>\n",
       "      <td>1096</td>\n",
       "      <td>MEX</td>\n",
       "      <td>LUQUE Juan (MEX)</td>\n",
       "      <td>S</td>\n",
       "      <td>0</td>\n",
       "      <td>Juan CARRENO</td>\n",
       "      <td>NaN</td>\n",
       "      <td>G70'</td>\n",
       "    </tr>\n",
       "    <tr>\n",
       "      <th>6</th>\n",
       "      <td>201</td>\n",
       "      <td>1096</td>\n",
       "      <td>FRA</td>\n",
       "      <td>CAUDRON Raoul (FRA)</td>\n",
       "      <td>S</td>\n",
       "      <td>0</td>\n",
       "      <td>Andre MASCHINOT</td>\n",
       "      <td>NaN</td>\n",
       "      <td>G43' G87'</td>\n",
       "    </tr>\n",
       "    <tr>\n",
       "      <th>14</th>\n",
       "      <td>201</td>\n",
       "      <td>1096</td>\n",
       "      <td>FRA</td>\n",
       "      <td>CAUDRON Raoul (FRA)</td>\n",
       "      <td>S</td>\n",
       "      <td>0</td>\n",
       "      <td>Lucien LAURENT</td>\n",
       "      <td>NaN</td>\n",
       "      <td>G19'</td>\n",
       "    </tr>\n",
       "    <tr>\n",
       "      <th>35</th>\n",
       "      <td>201</td>\n",
       "      <td>1090</td>\n",
       "      <td>USA</td>\n",
       "      <td>MILLAR Bob (USA)</td>\n",
       "      <td>S</td>\n",
       "      <td>0</td>\n",
       "      <td>Tom FLORIE</td>\n",
       "      <td>C</td>\n",
       "      <td>G45'</td>\n",
       "    </tr>\n",
       "    <tr>\n",
       "      <th>...</th>\n",
       "      <td>...</td>\n",
       "      <td>...</td>\n",
       "      <td>...</td>\n",
       "      <td>...</td>\n",
       "      <td>...</td>\n",
       "      <td>...</td>\n",
       "      <td>...</td>\n",
       "      <td>...</td>\n",
       "      <td>...</td>\n",
       "    </tr>\n",
       "    <tr>\n",
       "      <th>37619</th>\n",
       "      <td>255955</td>\n",
       "      <td>300186474</td>\n",
       "      <td>GER</td>\n",
       "      <td>LOEW Joachim (GER)</td>\n",
       "      <td>S</td>\n",
       "      <td>18</td>\n",
       "      <td>KROOS</td>\n",
       "      <td>NaN</td>\n",
       "      <td>G24' G26'</td>\n",
       "    </tr>\n",
       "    <tr>\n",
       "      <th>37631</th>\n",
       "      <td>255955</td>\n",
       "      <td>300186474</td>\n",
       "      <td>GER</td>\n",
       "      <td>LOEW Joachim (GER)</td>\n",
       "      <td>N</td>\n",
       "      <td>9</td>\n",
       "      <td>SCH�RRLE</td>\n",
       "      <td>NaN</td>\n",
       "      <td>I58' G69' G79'</td>\n",
       "    </tr>\n",
       "    <tr>\n",
       "      <th>37701</th>\n",
       "      <td>255957</td>\n",
       "      <td>300186502</td>\n",
       "      <td>NED</td>\n",
       "      <td>Louis VAN GAAL (NED)</td>\n",
       "      <td>S</td>\n",
       "      <td>5</td>\n",
       "      <td>BLIND</td>\n",
       "      <td>NaN</td>\n",
       "      <td>G17' O70'</td>\n",
       "    </tr>\n",
       "    <tr>\n",
       "      <th>37713</th>\n",
       "      <td>255957</td>\n",
       "      <td>300186502</td>\n",
       "      <td>NED</td>\n",
       "      <td>Louis VAN GAAL (NED)</td>\n",
       "      <td>S</td>\n",
       "      <td>20</td>\n",
       "      <td>WIJNALDUM</td>\n",
       "      <td>NaN</td>\n",
       "      <td>G90'</td>\n",
       "    </tr>\n",
       "    <tr>\n",
       "      <th>37778</th>\n",
       "      <td>255959</td>\n",
       "      <td>300186501</td>\n",
       "      <td>GER</td>\n",
       "      <td>LOEW Joachim (GER)</td>\n",
       "      <td>N</td>\n",
       "      <td>19</td>\n",
       "      <td>G�TZE</td>\n",
       "      <td>NaN</td>\n",
       "      <td>I88' G113'</td>\n",
       "    </tr>\n",
       "  </tbody>\n",
       "</table>\n",
       "<p>1879 rows × 9 columns</p>\n",
       "</div>"
      ],
      "text/plain": [
       "       RoundID    MatchID Team Initials            Coach Name Line-up  \\\n",
       "2          201       1096           FRA   CAUDRON Raoul (FRA)       S   \n",
       "3          201       1096           MEX      LUQUE Juan (MEX)       S   \n",
       "6          201       1096           FRA   CAUDRON Raoul (FRA)       S   \n",
       "14         201       1096           FRA   CAUDRON Raoul (FRA)       S   \n",
       "35         201       1090           USA      MILLAR Bob (USA)       S   \n",
       "...        ...        ...           ...                   ...     ...   \n",
       "37619   255955  300186474           GER    LOEW Joachim (GER)       S   \n",
       "37631   255955  300186474           GER    LOEW Joachim (GER)       N   \n",
       "37701   255957  300186502           NED  Louis VAN GAAL (NED)       S   \n",
       "37713   255957  300186502           NED  Louis VAN GAAL (NED)       S   \n",
       "37778   255959  300186501           GER    LOEW Joachim (GER)       N   \n",
       "\n",
       "       Shirt Number       Player Name Position           Event  \n",
       "2                 0  Marcel LANGILLER      NaN            G40'  \n",
       "3                 0      Juan CARRENO      NaN            G70'  \n",
       "6                 0   Andre MASCHINOT      NaN       G43' G87'  \n",
       "14                0    Lucien LAURENT      NaN            G19'  \n",
       "35                0        Tom FLORIE        C            G45'  \n",
       "...             ...               ...      ...             ...  \n",
       "37619            18             KROOS      NaN       G24' G26'  \n",
       "37631             9          SCH�RRLE      NaN  I58' G69' G79'  \n",
       "37701             5             BLIND      NaN       G17' O70'  \n",
       "37713            20         WIJNALDUM      NaN            G90'  \n",
       "37778            19             G�TZE      NaN      I88' G113'  \n",
       "\n",
       "[1879 rows x 9 columns]"
      ]
     },
     "execution_count": 3,
     "metadata": {},
     "output_type": "execute_result"
    }
   ],
   "source": [
    "# Envontra todos os gols do dataset\n",
    "\n",
    "df_players = pd.read_csv('WorldCupPlayers.csv')\n",
    "\n",
    "df_players['Event'] = df_players['Event'].fillna('-')\n",
    "\n",
    "df_goals = df_players.loc[df_players['Event'].str.contains('G')].copy()\n",
    "\n",
    "df_goals"
   ]
  },
  {
   "cell_type": "code",
   "execution_count": 4,
   "metadata": {},
   "outputs": [
    {
     "data": {
      "text/html": [
       "<div>\n",
       "<style scoped>\n",
       "    .dataframe tbody tr th:only-of-type {\n",
       "        vertical-align: middle;\n",
       "    }\n",
       "\n",
       "    .dataframe tbody tr th {\n",
       "        vertical-align: top;\n",
       "    }\n",
       "\n",
       "    .dataframe thead th {\n",
       "        text-align: right;\n",
       "    }\n",
       "</style>\n",
       "<table border=\"1\" class=\"dataframe\">\n",
       "  <thead>\n",
       "    <tr style=\"text-align: right;\">\n",
       "      <th></th>\n",
       "      <th>RoundID</th>\n",
       "      <th>MatchID</th>\n",
       "      <th>Team Initials</th>\n",
       "      <th>Coach Name</th>\n",
       "      <th>Line-up</th>\n",
       "      <th>Shirt Number</th>\n",
       "      <th>Player Name</th>\n",
       "      <th>Position</th>\n",
       "      <th>Event</th>\n",
       "      <th>Goals</th>\n",
       "    </tr>\n",
       "  </thead>\n",
       "  <tbody>\n",
       "    <tr>\n",
       "      <th>2</th>\n",
       "      <td>201</td>\n",
       "      <td>1096</td>\n",
       "      <td>FRA</td>\n",
       "      <td>CAUDRON Raoul (FRA)</td>\n",
       "      <td>S</td>\n",
       "      <td>0</td>\n",
       "      <td>Marcel LANGILLER</td>\n",
       "      <td>NaN</td>\n",
       "      <td>G40'</td>\n",
       "      <td>1</td>\n",
       "    </tr>\n",
       "    <tr>\n",
       "      <th>3</th>\n",
       "      <td>201</td>\n",
       "      <td>1096</td>\n",
       "      <td>MEX</td>\n",
       "      <td>LUQUE Juan (MEX)</td>\n",
       "      <td>S</td>\n",
       "      <td>0</td>\n",
       "      <td>Juan CARRENO</td>\n",
       "      <td>NaN</td>\n",
       "      <td>G70'</td>\n",
       "      <td>1</td>\n",
       "    </tr>\n",
       "    <tr>\n",
       "      <th>6</th>\n",
       "      <td>201</td>\n",
       "      <td>1096</td>\n",
       "      <td>FRA</td>\n",
       "      <td>CAUDRON Raoul (FRA)</td>\n",
       "      <td>S</td>\n",
       "      <td>0</td>\n",
       "      <td>Andre MASCHINOT</td>\n",
       "      <td>NaN</td>\n",
       "      <td>G43' G87'</td>\n",
       "      <td>2</td>\n",
       "    </tr>\n",
       "    <tr>\n",
       "      <th>14</th>\n",
       "      <td>201</td>\n",
       "      <td>1096</td>\n",
       "      <td>FRA</td>\n",
       "      <td>CAUDRON Raoul (FRA)</td>\n",
       "      <td>S</td>\n",
       "      <td>0</td>\n",
       "      <td>Lucien LAURENT</td>\n",
       "      <td>NaN</td>\n",
       "      <td>G19'</td>\n",
       "      <td>1</td>\n",
       "    </tr>\n",
       "    <tr>\n",
       "      <th>35</th>\n",
       "      <td>201</td>\n",
       "      <td>1090</td>\n",
       "      <td>USA</td>\n",
       "      <td>MILLAR Bob (USA)</td>\n",
       "      <td>S</td>\n",
       "      <td>0</td>\n",
       "      <td>Tom FLORIE</td>\n",
       "      <td>C</td>\n",
       "      <td>G45'</td>\n",
       "      <td>1</td>\n",
       "    </tr>\n",
       "    <tr>\n",
       "      <th>...</th>\n",
       "      <td>...</td>\n",
       "      <td>...</td>\n",
       "      <td>...</td>\n",
       "      <td>...</td>\n",
       "      <td>...</td>\n",
       "      <td>...</td>\n",
       "      <td>...</td>\n",
       "      <td>...</td>\n",
       "      <td>...</td>\n",
       "      <td>...</td>\n",
       "    </tr>\n",
       "    <tr>\n",
       "      <th>37619</th>\n",
       "      <td>255955</td>\n",
       "      <td>300186474</td>\n",
       "      <td>GER</td>\n",
       "      <td>LOEW Joachim (GER)</td>\n",
       "      <td>S</td>\n",
       "      <td>18</td>\n",
       "      <td>KROOS</td>\n",
       "      <td>NaN</td>\n",
       "      <td>G24' G26'</td>\n",
       "      <td>2</td>\n",
       "    </tr>\n",
       "    <tr>\n",
       "      <th>37631</th>\n",
       "      <td>255955</td>\n",
       "      <td>300186474</td>\n",
       "      <td>GER</td>\n",
       "      <td>LOEW Joachim (GER)</td>\n",
       "      <td>N</td>\n",
       "      <td>9</td>\n",
       "      <td>SCH�RRLE</td>\n",
       "      <td>NaN</td>\n",
       "      <td>I58' G69' G79'</td>\n",
       "      <td>2</td>\n",
       "    </tr>\n",
       "    <tr>\n",
       "      <th>37701</th>\n",
       "      <td>255957</td>\n",
       "      <td>300186502</td>\n",
       "      <td>NED</td>\n",
       "      <td>Louis VAN GAAL (NED)</td>\n",
       "      <td>S</td>\n",
       "      <td>5</td>\n",
       "      <td>BLIND</td>\n",
       "      <td>NaN</td>\n",
       "      <td>G17' O70'</td>\n",
       "      <td>1</td>\n",
       "    </tr>\n",
       "    <tr>\n",
       "      <th>37713</th>\n",
       "      <td>255957</td>\n",
       "      <td>300186502</td>\n",
       "      <td>NED</td>\n",
       "      <td>Louis VAN GAAL (NED)</td>\n",
       "      <td>S</td>\n",
       "      <td>20</td>\n",
       "      <td>WIJNALDUM</td>\n",
       "      <td>NaN</td>\n",
       "      <td>G90'</td>\n",
       "      <td>1</td>\n",
       "    </tr>\n",
       "    <tr>\n",
       "      <th>37778</th>\n",
       "      <td>255959</td>\n",
       "      <td>300186501</td>\n",
       "      <td>GER</td>\n",
       "      <td>LOEW Joachim (GER)</td>\n",
       "      <td>N</td>\n",
       "      <td>19</td>\n",
       "      <td>G�TZE</td>\n",
       "      <td>NaN</td>\n",
       "      <td>I88' G113'</td>\n",
       "      <td>1</td>\n",
       "    </tr>\n",
       "  </tbody>\n",
       "</table>\n",
       "<p>1879 rows × 10 columns</p>\n",
       "</div>"
      ],
      "text/plain": [
       "       RoundID    MatchID Team Initials            Coach Name Line-up  \\\n",
       "2          201       1096           FRA   CAUDRON Raoul (FRA)       S   \n",
       "3          201       1096           MEX      LUQUE Juan (MEX)       S   \n",
       "6          201       1096           FRA   CAUDRON Raoul (FRA)       S   \n",
       "14         201       1096           FRA   CAUDRON Raoul (FRA)       S   \n",
       "35         201       1090           USA      MILLAR Bob (USA)       S   \n",
       "...        ...        ...           ...                   ...     ...   \n",
       "37619   255955  300186474           GER    LOEW Joachim (GER)       S   \n",
       "37631   255955  300186474           GER    LOEW Joachim (GER)       N   \n",
       "37701   255957  300186502           NED  Louis VAN GAAL (NED)       S   \n",
       "37713   255957  300186502           NED  Louis VAN GAAL (NED)       S   \n",
       "37778   255959  300186501           GER    LOEW Joachim (GER)       N   \n",
       "\n",
       "       Shirt Number       Player Name Position           Event  Goals  \n",
       "2                 0  Marcel LANGILLER      NaN            G40'      1  \n",
       "3                 0      Juan CARRENO      NaN            G70'      1  \n",
       "6                 0   Andre MASCHINOT      NaN       G43' G87'      2  \n",
       "14                0    Lucien LAURENT      NaN            G19'      1  \n",
       "35                0        Tom FLORIE        C            G45'      1  \n",
       "...             ...               ...      ...             ...    ...  \n",
       "37619            18             KROOS      NaN       G24' G26'      2  \n",
       "37631             9          SCH�RRLE      NaN  I58' G69' G79'      2  \n",
       "37701             5             BLIND      NaN       G17' O70'      1  \n",
       "37713            20         WIJNALDUM      NaN            G90'      1  \n",
       "37778            19             G�TZE      NaN      I88' G113'      1  \n",
       "\n",
       "[1879 rows x 10 columns]"
      ]
     },
     "execution_count": 4,
     "metadata": {},
     "output_type": "execute_result"
    }
   ],
   "source": [
    "# Realiza a contagem dos gols\n",
    "\n",
    "df_goals['Goals'] = df_players['Event'].apply(lambda x: x.count('G'))\n",
    "\n",
    "df_goals"
   ]
  },
  {
   "cell_type": "code",
   "execution_count": 8,
   "metadata": {},
   "outputs": [
    {
     "data": {
      "text/html": [
       "<div>\n",
       "<style scoped>\n",
       "    .dataframe tbody tr th:only-of-type {\n",
       "        vertical-align: middle;\n",
       "    }\n",
       "\n",
       "    .dataframe tbody tr th {\n",
       "        vertical-align: top;\n",
       "    }\n",
       "\n",
       "    .dataframe thead th {\n",
       "        text-align: right;\n",
       "    }\n",
       "</style>\n",
       "<table border=\"1\" class=\"dataframe\">\n",
       "  <thead>\n",
       "    <tr style=\"text-align: right;\">\n",
       "      <th></th>\n",
       "      <th>Goals</th>\n",
       "    </tr>\n",
       "    <tr>\n",
       "      <th>Player Name</th>\n",
       "      <th></th>\n",
       "    </tr>\n",
       "  </thead>\n",
       "  <tbody>\n",
       "    <tr>\n",
       "      <th>KLOSE</th>\n",
       "      <td>17</td>\n",
       "    </tr>\n",
       "    <tr>\n",
       "      <th>RONALDO</th>\n",
       "      <td>16</td>\n",
       "    </tr>\n",
       "    <tr>\n",
       "      <th>Just FONTAINE</th>\n",
       "      <td>13</td>\n",
       "    </tr>\n",
       "    <tr>\n",
       "      <th>Gerd MUELLER</th>\n",
       "      <td>13</td>\n",
       "    </tr>\n",
       "    <tr>\n",
       "      <th>PEL� (Edson Arantes do Nascimento)</th>\n",
       "      <td>12</td>\n",
       "    </tr>\n",
       "  </tbody>\n",
       "</table>\n",
       "</div>"
      ],
      "text/plain": [
       "                                    Goals\n",
       "Player Name                              \n",
       "KLOSE                                  17\n",
       "RONALDO                                16\n",
       "Just FONTAINE                          13\n",
       "Gerd MUELLER                           13\n",
       "PEL� (Edson Arantes do Nascimento)     12"
      ]
     },
     "execution_count": 8,
     "metadata": {},
     "output_type": "execute_result"
    }
   ],
   "source": [
    "# Identifica os 5 maiores artilheiros\n",
    "\n",
    "df_artilheiros = df_goals.groupby('Player Name').sum('Goals').copy().sort_values(by='Goals', ascending=False).copy()\n",
    "\n",
    "df_artilheiros.head(5).drop(columns=['RoundID', 'MatchID', 'Shirt Number'], axis=1)"
   ]
  }
 ],
 "metadata": {
  "kernelspec": {
   "display_name": "base",
   "language": "python",
   "name": "python3"
  },
  "language_info": {
   "codemirror_mode": {
    "name": "ipython",
    "version": 3
   },
   "file_extension": ".py",
   "mimetype": "text/x-python",
   "name": "python",
   "nbconvert_exporter": "python",
   "pygments_lexer": "ipython3",
   "version": "3.9.12"
  },
  "orig_nbformat": 4,
  "vscode": {
   "interpreter": {
    "hash": "2c9caeb523d2083aedd8a9ac2444dc3e5f58c10f3cd1684917ff502b1b053203"
   }
  }
 },
 "nbformat": 4,
 "nbformat_minor": 2
}
