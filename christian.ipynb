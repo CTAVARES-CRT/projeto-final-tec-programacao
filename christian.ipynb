{
 "cells": [
  {
   "attachments": {},
   "cell_type": "markdown",
   "metadata": {},
   "source": [
    "análise exploratória dos dados (quantas seleções já participaram/ TOP 5 campeões/ Maiores artilheiros/ Media de gols por final)\n",
    "\n",
    "crescimento do publico\n",
    "\n",
    "* Qual a média de gols das finais das copas - \n",
    "* TOP 5 campeões - CLEITON\n",
    "* Maiores artilheiros - \n",
    "* Quantidade de seleções participantes - \n",
    "* Maior e Média de publico das copas - \n",
    "* Quantidade de cartões amarelos em finais de copa - \n",
    "* Quantidade de cartões vermelhos após o segundo amarelo -  \n",
    "* Seleção que mais marcou gols em uma final - \n",
    "* Relação entre a população do país no ano e o público dos jogos - \n",
    "\n",
    "G=Goal, \n",
    "OG=Own Goal, \n",
    "Y=Yellow Card, \n",
    "R=Red Card, \n",
    "SY = Red Card by second yellow, \n",
    "P=Penalty, \n",
    "MP=Missed Penalty, \n",
    "I = Substitution In, \n",
    "O=Substitute Out\n"
   ]
  },
  {
   "attachments": {},
   "cell_type": "markdown",
   "metadata": {},
   "source": [
    "### 1. Público das copas por ano"
   ]
  },
  {
   "cell_type": "code",
   "execution_count": 1,
   "metadata": {},
   "outputs": [
    {
     "data": {
      "image/png": "[encoded data removed]",
      "text/plain": [
       "<Figure size 432x288 with 1 Axes>"
      ]
     },
     "metadata": {
      "needs_background": "light"
     },
     "output_type": "display_data"
    }
   ],
   "source": [
    "import pandas as pd\n",
    "import matplotlib.pyplot as plt\n",
    "\n",
    "df = pd.read_csv('WorldCups.csv', sep=',')\n",
    "\n",
    "df['Attendance'] = df['Attendance'].str.replace('.','', regex=True).astype(int)\n",
    "\n",
    "df = df[['Year', 'Attendance']]\n",
    "\n",
    "df.plot(kind='bar', x='Year')\n",
    "\n",
    "plt.xlabel('Anos')\n",
    "plt.ylabel('Público')\n",
    "plt.title('Público x Anos')\n",
    "\n",
    "plt.show()"
   ]
  },
  {
   "attachments": {},
   "cell_type": "markdown",
   "metadata": {},
   "source": [
    "### 2. Quantidade de cartões amarelos em finais de copas"
   ]
  },
  {
   "cell_type": "code",
   "execution_count": 60,
   "metadata": {},
   "outputs": [
    {
     "name": "stdout",
     "output_type": "stream",
     "text": [
      "Em finais de copa do mundo, ao todo já foram aplicados 70 cartões amarelos.\n"
     ]
    }
   ],
   "source": [
    "df_players = pd.read_csv('WorldCupPlayers.csv')\n",
    "df_matches = pd.read_csv('WorldCupMatches.csv')\n",
    "\n",
    "df_players['Yellow Card'] = df_players['Event'].str.contains('Y')\n",
    "\n",
    "df_players.fillna(False)\n",
    "\n",
    "df_players = df_players.loc[df_players['Yellow Card'] == True].copy()\n",
    "\n",
    "df_final_cards = pd.merge(df_players, df_matches, on='MatchID', how='inner')\n",
    "\n",
    "df_final_cards = df_final_cards.loc[df_final_cards['Stage'] == 'Final']\n",
    "\n",
    "total_yellow_cards = df_final_cards[['MatchID', 'Yellow Card']].shape[0]\n",
    "\n",
    "print(f'Em finais de copa do mundo, ao todo já foram aplicados {total_yellow_cards} cartões amarelos.')"
   ]
  },
  {
   "attachments": {},
   "cell_type": "markdown",
   "metadata": {},
   "source": [
    "### 3. Média de gols em finais"
   ]
  },
  {
   "cell_type": "code",
   "execution_count": 16,
   "metadata": {},
   "outputs": [
    {
     "name": "stdout",
     "output_type": "stream",
     "text": [
      "A média de gols em finais de copa é de: 4\n",
      "A média de gols em finais de copa dos times da casa é de: 3\n",
      "A média de gols em finais de copa dos times visitantes é de: 2\n"
     ]
    }
   ],
   "source": [
    "import math\n",
    "\n",
    "df_matches = pd.read_csv('WorldCupMatches.csv')\n",
    "\n",
    "df_matches = df_matches[(df_matches['Stage'] == 'Final')]\n",
    "\n",
    "df_matches['Year'] = df_matches['Year'].astype(str).str.replace('.0', '', regex=False)\n",
    "\n",
    "df_matches['Total Goals'] = df_matches['Home Team Goals'] + df_matches['Away Team Goals']\n",
    "\n",
    "media_gols_finais = df_matches['Total Goals'].mean()\n",
    "media_gols_finais_time_casa = df_matches['Home Team Goals'].mean()\n",
    "media_gols_finais_time_fora = df_matches['Away Team Goals'].mean()\n",
    "\n",
    "print(f'A média de gols em finais de copa é de: {math.ceil(media_gols_finais)}\\nA média de gols em finais de copa dos times da casa é de: {math.ceil(media_gols_finais_time_casa)}\\nA média de gols em finais de copa dos times visitantes é de: {math.ceil(media_gols_finais_time_fora)}')"
   ]
  },
  {
   "attachments": {},
   "cell_type": "markdown",
   "metadata": {},
   "source": [
    "### 4. Seleção que mais marcou gols em uma final"
   ]
  },
  {
   "cell_type": "code",
   "execution_count": 53,
   "metadata": {},
   "outputs": [
    {
     "data": {
      "text/plain": [
       "MatchID               300186501.0\n",
       "Stage                       Final\n",
       "Home Team Goals                 5\n",
       "Away Team Goals                 3\n",
       "Home Team Initials            URU\n",
       "Away Team Initials            TCH\n",
       "dtype: object"
      ]
     },
     "execution_count": 53,
     "metadata": {},
     "output_type": "execute_result"
    }
   ],
   "source": [
    "\n",
    "df_matches = pd.read_csv('WorldCupMatches.csv')\n",
    "\n",
    "df_matches[['Home Team Initials', 'Away Team Initials']] = df_matches[['Home Team Initials', 'Away Team Initials']].fillna('-')\n",
    "df_matches['MatchID'] = df_matches['MatchID']\n",
    "df_matches[['Home Team Goals', 'Away Team Goals']] = df_matches[['Home Team Goals', 'Away Team Goals']].fillna(0).astype(int)\n",
    "\n",
    "df_matches[['MatchID', 'Stage', 'Home Team Goals', 'Away Team Goals', 'Home Team Initials', 'Away Team Initials']].loc[df_matches['Stage'] == 'Final'].max()\n",
    "\n",
    "# df_matches.loc[df_matches['Stage'] == 'Final'].max()"
   ]
  },
  {
   "attachments": {},
   "cell_type": "markdown",
   "metadata": {},
   "source": [
    "### 5. Maiores artilheiros"
   ]
  },
  {
   "cell_type": "code",
   "execution_count": 59,
   "metadata": {},
   "outputs": [
    {
     "data": {
      "text/html": [
       "<div>\n",
       "<style scoped>\n",
       "    .dataframe tbody tr th:only-of-type {\n",
       "        vertical-align: middle;\n",
       "    }\n",
       "\n",
       "    .dataframe tbody tr th {\n",
       "        vertical-align: top;\n",
       "    }\n",
       "\n",
       "    .dataframe thead th {\n",
       "        text-align: right;\n",
       "    }\n",
       "</style>\n",
       "<table border=\"1\" class=\"dataframe\">\n",
       "  <thead>\n",
       "    <tr style=\"text-align: right;\">\n",
       "      <th></th>\n",
       "      <th>RoundID</th>\n",
       "      <th>MatchID</th>\n",
       "      <th>Team Initials</th>\n",
       "      <th>Coach Name</th>\n",
       "      <th>Line-up</th>\n",
       "      <th>Shirt Number</th>\n",
       "      <th>Player Name</th>\n",
       "      <th>Position</th>\n",
       "      <th>Event</th>\n",
       "    </tr>\n",
       "  </thead>\n",
       "  <tbody>\n",
       "    <tr>\n",
       "      <th>2</th>\n",
       "      <td>201</td>\n",
       "      <td>1096</td>\n",
       "      <td>FRA</td>\n",
       "      <td>CAUDRON Raoul (FRA)</td>\n",
       "      <td>S</td>\n",
       "      <td>0</td>\n",
       "      <td>Marcel LANGILLER</td>\n",
       "      <td>NaN</td>\n",
       "      <td>G40'</td>\n",
       "    </tr>\n",
       "    <tr>\n",
       "      <th>3</th>\n",
       "      <td>201</td>\n",
       "      <td>1096</td>\n",
       "      <td>MEX</td>\n",
       "      <td>LUQUE Juan (MEX)</td>\n",
       "      <td>S</td>\n",
       "      <td>0</td>\n",
       "      <td>Juan CARRENO</td>\n",
       "      <td>NaN</td>\n",
       "      <td>G70'</td>\n",
       "    </tr>\n",
       "    <tr>\n",
       "      <th>6</th>\n",
       "      <td>201</td>\n",
       "      <td>1096</td>\n",
       "      <td>FRA</td>\n",
       "      <td>CAUDRON Raoul (FRA)</td>\n",
       "      <td>S</td>\n",
       "      <td>0</td>\n",
       "      <td>Andre MASCHINOT</td>\n",
       "      <td>NaN</td>\n",
       "      <td>G43' G87'</td>\n",
       "    </tr>\n",
       "    <tr>\n",
       "      <th>14</th>\n",
       "      <td>201</td>\n",
       "      <td>1096</td>\n",
       "      <td>FRA</td>\n",
       "      <td>CAUDRON Raoul (FRA)</td>\n",
       "      <td>S</td>\n",
       "      <td>0</td>\n",
       "      <td>Lucien LAURENT</td>\n",
       "      <td>NaN</td>\n",
       "      <td>G19'</td>\n",
       "    </tr>\n",
       "    <tr>\n",
       "      <th>35</th>\n",
       "      <td>201</td>\n",
       "      <td>1090</td>\n",
       "      <td>USA</td>\n",
       "      <td>MILLAR Bob (USA)</td>\n",
       "      <td>S</td>\n",
       "      <td>0</td>\n",
       "      <td>Tom FLORIE</td>\n",
       "      <td>C</td>\n",
       "      <td>G45'</td>\n",
       "    </tr>\n",
       "    <tr>\n",
       "      <th>...</th>\n",
       "      <td>...</td>\n",
       "      <td>...</td>\n",
       "      <td>...</td>\n",
       "      <td>...</td>\n",
       "      <td>...</td>\n",
       "      <td>...</td>\n",
       "      <td>...</td>\n",
       "      <td>...</td>\n",
       "      <td>...</td>\n",
       "    </tr>\n",
       "    <tr>\n",
       "      <th>37619</th>\n",
       "      <td>255955</td>\n",
       "      <td>300186474</td>\n",
       "      <td>GER</td>\n",
       "      <td>LOEW Joachim (GER)</td>\n",
       "      <td>S</td>\n",
       "      <td>18</td>\n",
       "      <td>KROOS</td>\n",
       "      <td>NaN</td>\n",
       "      <td>G24' G26'</td>\n",
       "    </tr>\n",
       "    <tr>\n",
       "      <th>37631</th>\n",
       "      <td>255955</td>\n",
       "      <td>300186474</td>\n",
       "      <td>GER</td>\n",
       "      <td>LOEW Joachim (GER)</td>\n",
       "      <td>N</td>\n",
       "      <td>9</td>\n",
       "      <td>SCH�RRLE</td>\n",
       "      <td>NaN</td>\n",
       "      <td>I58' G69' G79'</td>\n",
       "    </tr>\n",
       "    <tr>\n",
       "      <th>37701</th>\n",
       "      <td>255957</td>\n",
       "      <td>300186502</td>\n",
       "      <td>NED</td>\n",
       "      <td>Louis VAN GAAL (NED)</td>\n",
       "      <td>S</td>\n",
       "      <td>5</td>\n",
       "      <td>BLIND</td>\n",
       "      <td>NaN</td>\n",
       "      <td>G17' O70'</td>\n",
       "    </tr>\n",
       "    <tr>\n",
       "      <th>37713</th>\n",
       "      <td>255957</td>\n",
       "      <td>300186502</td>\n",
       "      <td>NED</td>\n",
       "      <td>Louis VAN GAAL (NED)</td>\n",
       "      <td>S</td>\n",
       "      <td>20</td>\n",
       "      <td>WIJNALDUM</td>\n",
       "      <td>NaN</td>\n",
       "      <td>G90'</td>\n",
       "    </tr>\n",
       "    <tr>\n",
       "      <th>37778</th>\n",
       "      <td>255959</td>\n",
       "      <td>300186501</td>\n",
       "      <td>GER</td>\n",
       "      <td>LOEW Joachim (GER)</td>\n",
       "      <td>N</td>\n",
       "      <td>19</td>\n",
       "      <td>G�TZE</td>\n",
       "      <td>NaN</td>\n",
       "      <td>I88' G113'</td>\n",
       "    </tr>\n",
       "  </tbody>\n",
       "</table>\n",
       "<p>1879 rows × 9 columns</p>\n",
       "</div>"
      ],
      "text/plain": [
       "       RoundID    MatchID Team Initials            Coach Name Line-up  \\\n",
       "2          201       1096           FRA   CAUDRON Raoul (FRA)       S   \n",
       "3          201       1096           MEX      LUQUE Juan (MEX)       S   \n",
       "6          201       1096           FRA   CAUDRON Raoul (FRA)       S   \n",
       "14         201       1096           FRA   CAUDRON Raoul (FRA)       S   \n",
       "35         201       1090           USA      MILLAR Bob (USA)       S   \n",
       "...        ...        ...           ...                   ...     ...   \n",
       "37619   255955  300186474           GER    LOEW Joachim (GER)       S   \n",
       "37631   255955  300186474           GER    LOEW Joachim (GER)       N   \n",
       "37701   255957  300186502           NED  Louis VAN GAAL (NED)       S   \n",
       "37713   255957  300186502           NED  Louis VAN GAAL (NED)       S   \n",
       "37778   255959  300186501           GER    LOEW Joachim (GER)       N   \n",
       "\n",
       "       Shirt Number       Player Name Position           Event  \n",
       "2                 0  Marcel LANGILLER      NaN            G40'  \n",
       "3                 0      Juan CARRENO      NaN            G70'  \n",
       "6                 0   Andre MASCHINOT      NaN       G43' G87'  \n",
       "14                0    Lucien LAURENT      NaN            G19'  \n",
       "35                0        Tom FLORIE        C            G45'  \n",
       "...             ...               ...      ...             ...  \n",
       "37619            18             KROOS      NaN       G24' G26'  \n",
       "37631             9          SCH�RRLE      NaN  I58' G69' G79'  \n",
       "37701             5             BLIND      NaN       G17' O70'  \n",
       "37713            20         WIJNALDUM      NaN            G90'  \n",
       "37778            19             G�TZE      NaN      I88' G113'  \n",
       "\n",
       "[1879 rows x 9 columns]"
      ]
     },
     "execution_count": 59,
     "metadata": {},
     "output_type": "execute_result"
    }
   ],
   "source": [
    "df_players = pd.read_csv('WorldCupPlayers.csv')\n",
    "\n",
    "df_players['Event'] = df_players['Event'].fillna('-')\n",
    "\n",
    "df_players.loc[df_players['Event'].str.contains('G')]"
   ]
  },
  {
   "cell_type": "code",
   "execution_count": 10,
   "metadata": {},
   "outputs": [
    {
     "data": {
      "text/plain": [
       "Team Name\n",
       "Brazil            180.0\n",
       "Argentina         111.0\n",
       "Austria            31.0\n",
       "Czechoslovakia     27.0\n",
       "Belgium            27.0\n",
       "Chile              25.0\n",
       "Colombia           11.0\n",
       "Bulgaria           11.0\n",
       "Cameroon           11.0\n",
       "Australia           7.0\n",
       "Costa Rica          7.0\n",
       "Algeria             5.0\n",
       "Cuba                5.0\n",
       "Croatia             3.0\n",
       "Bolivia             1.0\n",
       "Canada              0.0\n",
       "China PR            0.0\n",
       "Angola              0.0\n",
       "Czech Republic      0.0\n",
       "-                   0.0\n",
       "Name: Home Team Goals, dtype: float64"
      ]
     },
     "execution_count": 10,
     "metadata": {},
     "output_type": "execute_result"
    }
   ],
   "source": [
    "df_goals = pd.read_csv('WorldCupMatches.csv')\n",
    "\n",
    "df_goals[['Home Team Name', 'Away Team Name']] = df_goals[['Home Team Name', 'Away Team Name']].fillna('-')\n",
    "\n",
    "df_home_goals = df_goals[['Home Team Name', 'Home Team Goals']].copy()\n",
    "\n",
    "df_home_goals = df_home_goals.rename(columns={'Home Team Name':'Team Name'})\n",
    "\n",
    "df_home_goals = df_home_goals.groupby('Team Name')\n",
    "\n",
    "df_home_goals = df_home_goals['Home Team Goals'].sum()\n",
    "\n",
    "df_home_goals.head(20).sort_values(ascending=False)\n",
    "\n"
   ]
  },
  {
   "cell_type": "code",
   "execution_count": 11,
   "metadata": {},
   "outputs": [
    {
     "data": {
      "text/plain": [
       "Team Name\n",
       "Brazil            45.0\n",
       "Belgium           27.0\n",
       "Argentina         22.0\n",
       "Croatia           18.0\n",
       "Colombia          18.0\n",
       "Czechoslovakia    17.0\n",
       "Chile             16.0\n",
       "Austria           12.0\n",
       "Costa Rica        11.0\n",
       "Bulgaria          11.0\n",
       "Algeria            9.0\n",
       "Cameroon           7.0\n",
       "Australia          4.0\n",
       "Czech Republic     3.0\n",
       "Angola             1.0\n",
       "Canada             0.0\n",
       "China PR           0.0\n",
       "Bolivia            0.0\n",
       "Cuba               0.0\n",
       "-                  0.0\n",
       "Name: Away Team Goals, dtype: float64"
      ]
     },
     "execution_count": 11,
     "metadata": {},
     "output_type": "execute_result"
    }
   ],
   "source": [
    "df_away_goals = df_goals[['Away Team Name','Away Team Goals']].copy()\n",
    "\n",
    "df_away_goals = df_away_goals.rename(columns={'Away Team Name':'Team Name'})\n",
    "\n",
    "df_away_goals = df_away_goals.groupby('Team Name')\n",
    "\n",
    "df_away_goals = df_away_goals['Away Team Goals'].sum()\n",
    "\n",
    "df_away_goals.head(20).sort_values(ascending=False)"
   ]
  },
  {
   "cell_type": "code",
   "execution_count": 21,
   "metadata": {},
   "outputs": [
    {
     "data": {
      "text/html": [
       "<div>\n",
       "<style scoped>\n",
       "    .dataframe tbody tr th:only-of-type {\n",
       "        vertical-align: middle;\n",
       "    }\n",
       "\n",
       "    .dataframe tbody tr th {\n",
       "        vertical-align: top;\n",
       "    }\n",
       "\n",
       "    .dataframe thead th {\n",
       "        text-align: right;\n",
       "    }\n",
       "</style>\n",
       "<table border=\"1\" class=\"dataframe\">\n",
       "  <thead>\n",
       "    <tr style=\"text-align: right;\">\n",
       "      <th></th>\n",
       "      <th>Total Goals</th>\n",
       "    </tr>\n",
       "    <tr>\n",
       "      <th>Team Name</th>\n",
       "      <th></th>\n",
       "    </tr>\n",
       "  </thead>\n",
       "  <tbody>\n",
       "    <tr>\n",
       "      <th>Brazil</th>\n",
       "      <td>225.0</td>\n",
       "    </tr>\n",
       "    <tr>\n",
       "      <th>Argentina</th>\n",
       "      <td>133.0</td>\n",
       "    </tr>\n",
       "    <tr>\n",
       "      <th>Germany FR</th>\n",
       "      <td>131.0</td>\n",
       "    </tr>\n",
       "    <tr>\n",
       "      <th>Italy</th>\n",
       "      <td>128.0</td>\n",
       "    </tr>\n",
       "    <tr>\n",
       "      <th>France</th>\n",
       "      <td>108.0</td>\n",
       "    </tr>\n",
       "  </tbody>\n",
       "</table>\n",
       "</div>"
      ],
      "text/plain": [
       "            Total Goals\n",
       "Team Name              \n",
       "Brazil            225.0\n",
       "Argentina         133.0\n",
       "Germany FR        131.0\n",
       "Italy             128.0\n",
       "France            108.0"
      ]
     },
     "execution_count": 21,
     "metadata": {},
     "output_type": "execute_result"
    }
   ],
   "source": [
    "df_total_goals = pd.merge(df_home_goals, df_away_goals, on='Team Name', how='inner')\n",
    "\n",
    "\n",
    "df_total_goals['Total Goals'] = df_total_goals.apply(lambda x: x['Home Team Goals'] + x['Away Team Goals'], axis=1)\n",
    "\n",
    "df_total_goals = df_total_goals.drop(['Home Team Goals', 'Away Team Goals'], axis=1)\n",
    "\n",
    "\n",
    "df_total_goals.sort_values(by='Total Goals', ascending=False).head(5)"
   ]
  },
  {
   "cell_type": "code",
   "execution_count": 7,
   "metadata": {},
   "outputs": [],
   "source": [
    "df_goals = pd.read_csv('WorldCupMatches.csv')\n",
    "df_goals = df_goals[['Home Team Name', 'Away Team Name']].replace('rn\">', '', regex=True)\n",
    "\n",
    "df_goals.to_excel('teste.xlsx')"
   ]
  }
 ],
 "metadata": {
  "kernelspec": {
   "display_name": "base",
   "language": "python",
   "name": "python3"
  },
  "language_info": {
   "codemirror_mode": {
    "name": "ipython",
    "version": 3
   },
   "file_extension": ".py",
   "mimetype": "text/x-python",
   "name": "python",
   "nbconvert_exporter": "python",
   "pygments_lexer": "ipython3",
   "version": "3.9.12"
  },
  "orig_nbformat": 4
 },
 "nbformat": 4,
 "nbformat_minor": 2
}
